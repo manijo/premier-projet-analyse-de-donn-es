{
 "cells": [
  {
   "cell_type": "markdown",
   "metadata": {},
   "source": [
    "L'objectif est de comparer l'évolution de la population en fonction de plusieurs pays et d'illuster ceci par un graphe, en utilisant Matplotlib"
   ]
  },
  {
   "cell_type": "code",
   "execution_count": 2,
   "metadata": {},
   "outputs": [],
   "source": [
    "import pandas as pd\n",
    "import matplotlib.pyplot as plt\n",
    "import numpy as np"
   ]
  },
  {
   "cell_type": "markdown",
   "metadata": {},
   "source": [
    "J'importe le fichier excel montrant l'évolution de la population par pays"
   ]
  },
  {
   "cell_type": "code",
   "execution_count": 10,
   "metadata": {},
   "outputs": [
    {
     "name": "stdout",
     "output_type": "stream",
     "text": [
      "          country  year  population\n",
      "0     Afghanistan  1952     8425333\n",
      "1     Afghanistan  1957     9240934\n",
      "2     Afghanistan  1962    10267083\n",
      "3     Afghanistan  1967    11537966\n",
      "4     Afghanistan  1972    13079460\n",
      "...           ...   ...         ...\n",
      "1699     Zimbabwe  1987     9216418\n",
      "1700     Zimbabwe  1992    10704340\n",
      "1701     Zimbabwe  1997    11404948\n",
      "1702     Zimbabwe  2002    11926563\n",
      "1703     Zimbabwe  2007    12311143\n",
      "\n",
      "[1704 rows x 3 columns]\n"
     ]
    }
   ],
   "source": [
    "data = pd.read_csv(\"Evo_pop_pays.csv\")\n",
    "print(data)"
   ]
  },
  {
   "cell_type": "code",
   "execution_count": 11,
   "metadata": {},
   "outputs": [],
   "source": [
    "#J'isole les données des pays que l'on souhaite comparer"
   ]
  },
  {
   "cell_type": "code",
   "execution_count": 16,
   "metadata": {},
   "outputs": [
    {
     "name": "stdout",
     "output_type": "stream",
     "text": [
      "    country  year  population\n",
      "528  France  1952    42459667\n",
      "529  France  1957    44310863\n",
      "530  France  1962    47124000\n",
      "531  France  1967    49569000\n",
      "532  France  1972    51732000\n",
      "533  France  1977    53165019\n",
      "534  France  1982    54433565\n",
      "535  France  1987    55630100\n",
      "536  France  1992    57374179\n",
      "537  France  1997    58623428\n",
      "538  France  2002    59925035\n",
      "539  France  2007    61083916\n"
     ]
    }
   ],
   "source": [
    "France = data[data.country == \"France\"]\n",
    "print(France)"
   ]
  },
  {
   "cell_type": "code",
   "execution_count": 17,
   "metadata": {},
   "outputs": [
    {
     "name": "stdout",
     "output_type": "stream",
     "text": [
      "     country  year  population\n",
      "564  Germany  1952    69145952\n",
      "565  Germany  1957    71019069\n",
      "566  Germany  1962    73739117\n",
      "567  Germany  1967    76368453\n",
      "568  Germany  1972    78717088\n",
      "569  Germany  1977    78160773\n",
      "570  Germany  1982    78335266\n",
      "571  Germany  1987    77718298\n",
      "572  Germany  1992    80597764\n",
      "573  Germany  1997    82011073\n",
      "574  Germany  2002    82350671\n",
      "575  Germany  2007    82400996\n"
     ]
    }
   ],
   "source": [
    "Allemagne = data[data.country == \"Germany\"]\n",
    "print(Allemagne)"
   ]
  },
  {
   "cell_type": "code",
   "execution_count": 19,
   "metadata": {},
   "outputs": [
    {
     "name": "stdout",
     "output_type": "stream",
     "text": [
      "     country  year  population\n",
      "1416   Spain  1952    28549870\n",
      "1417   Spain  1957    29841614\n",
      "1418   Spain  1962    31158061\n",
      "1419   Spain  1967    32850275\n",
      "1420   Spain  1972    34513161\n",
      "1421   Spain  1977    36439000\n",
      "1422   Spain  1982    37983310\n",
      "1423   Spain  1987    38880702\n",
      "1424   Spain  1992    39549438\n",
      "1425   Spain  1997    39855442\n",
      "1426   Spain  2002    40152517\n",
      "1427   Spain  2007    40448191\n"
     ]
    }
   ],
   "source": [
    "Espagne = data[data. country == \"Spain\"]\n",
    "print(Espagne)"
   ]
  },
  {
   "cell_type": "markdown",
   "metadata": {},
   "source": [
    "Maintenant que nous avons la liste de chacun de nos pays nous pouvons utiliser Matplotlib pour illustrer ces évolutions"
   ]
  },
  {
   "cell_type": "code",
   "execution_count": 26,
   "metadata": {},
   "outputs": [
    {
     "data": {
      "text/plain": [
       "[<matplotlib.lines.Line2D at 0x2d2633e0880>]"
      ]
     },
     "execution_count": 26,
     "metadata": {},
     "output_type": "execute_result"
    },
    {
     "data": {
      "image/png": "[encoded data removed]",
      "text/plain": [
       "<Figure size 432x288 with 1 Axes>"
      ]
     },
     "metadata": {
      "needs_background": "light"
     },
     "output_type": "display_data"
    }
   ],
   "source": [
    "plt.plot(France.year, France.population)\n",
    "plt.plot(Allemagne.year, Allemagne.population)\n",
    "plt.plot(Espagne.year, Espagne.population)"
   ]
  },
  {
   "cell_type": "code",
   "execution_count": null,
   "metadata": {},
   "outputs": [],
   "source": [
    "#Comme nous pouvons le voir le tableaux n'a pas de sens car le valeur affiché en ordonée sont trop haute. Pour cela je vais utiliser comme unité de mesure le million soit tout divisé par 10^6."
   ]
  },
  {
   "cell_type": "code",
   "execution_count": 27,
   "metadata": {},
   "outputs": [
    {
     "data": {
      "text/plain": [
       "[<matplotlib.lines.Line2D at 0x2d262db58b0>]"
      ]
     },
     "execution_count": 27,
     "metadata": {},
     "output_type": "execute_result"
    },
    {
     "data": {
      "image/png": "[encoded data removed]",
      "text/plain": [
       "<Figure size 432x288 with 1 Axes>"
      ]
     },
     "metadata": {
      "needs_background": "light"
     },
     "output_type": "display_data"
    }
   ],
   "source": [
    "plt.plot(France.year, France.population / 10**6)\n",
    "plt.plot(Allemagne.year, Allemagne.population / 10**6)\n",
    "plt.plot(Espagne.year, Espagne.population / 10**6)"
   ]
  },
  {
   "cell_type": "code",
   "execution_count": null,
   "metadata": {},
   "outputs": [],
   "source": [
    "#Maintenant que les données sont plus compréhensible je vais ajouter les légendes"
   ]
  },
  {
   "cell_type": "code",
   "execution_count": 28,
   "metadata": {},
   "outputs": [
    {
     "data": {
      "text/plain": [
       "Text(0, 0.5, 'Population (en million)')"
      ]
     },
     "execution_count": 28,
     "metadata": {},
     "output_type": "execute_result"
    },
    {
     "data": {
      "image/png": "[encoded data removed]",
      "text/plain": [
       "<Figure size 432x288 with 1 Axes>"
      ]
     },
     "metadata": {
      "needs_background": "light"
     },
     "output_type": "display_data"
    }
   ],
   "source": [
    "plt.plot(France.year, France.population / 10**6)\n",
    "plt.plot(Allemagne.year, Allemagne.population / 10**6)\n",
    "plt.plot(Espagne.year, Espagne.population / 10**6)\n",
    "plt.legend([\"France\", \"Allemagne\", \"Espagne\"])\n",
    "plt.xlabel(\"Année\")\n",
    "plt.ylabel(\"Population (en million)\")\n",
    "            "
   ]
  },
  {
   "cell_type": "code",
   "execution_count": null,
   "metadata": {},
   "outputs": [],
   "source": []
  }
 ],
 "metadata": {
  "kernelspec": {
   "display_name": "Python 3",
   "language": "python",
   "name": "python3"
  },
  "language_info": {
   "codemirror_mode": {
    "name": "ipython",
    "version": 3
   },
   "file_extension": ".py",
   "mimetype": "text/x-python",
   "name": "python",
   "nbconvert_exporter": "python",
   "pygments_lexer": "ipython3",
   "version": "3.7.9"
  }
 },
 "nbformat": 4,
 "nbformat_minor": 4
}
